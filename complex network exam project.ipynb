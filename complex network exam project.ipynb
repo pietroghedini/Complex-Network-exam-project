{
 "cells": [
  {
   "cell_type": "markdown",
   "id": "924cbcb8",
   "metadata": {},
   "source": [
    "**Spotify recommendation network analysis**\n",
    "\n",
    "This code was written in order to create and analyse a network based on Spotify's data.\n",
    "\n",
    "In this first part, all the necessary libraries are imported."
   ]
  },
  {
   "cell_type": "code",
   "execution_count": null,
   "id": "e8966f9a",
   "metadata": {},
   "outputs": [],
   "source": [
    "import json\n",
    "from pyvis.network import Network\n",
    "from IPython.display import display\n",
    "from scipy.stats import linregress\n",
    "import networkx as nx\n",
    "import matplotlib.pyplot as plt\n",
    "\n",
    "net = Network(notebook=True, height=\"1000px\", width=\"100%\", directed=True, select_menu=True, filter_menu=True)"
   ]
  },
  {
   "cell_type": "markdown",
   "id": "2d562540",
   "metadata": {},
   "source": [
    "This section is used to convert the Spotify's data from JSON format to a Python-friendly language. Moreover, it prints the dataset, in order to be able to present them through, for example, a table. The informations are then used for creating the files with the data to analyze in the following sections."
   ]
  },
  {
   "cell_type": "code",
   "execution_count": null,
   "id": "6d737ae0",
   "metadata": {},
   "outputs": [],
   "source": [
    "json_data = {} #Insert here the data obtained from Spotify API\n",
    "data = json.loads(json_data) #Convert the JSON data in a Pyhton format\n",
    "\n",
    "artists = data['artists']\n",
    "for artist in artists:\n",
    "    name = artist['name']\n",
    "    followers = artist['followers']['total']\n",
    "    genres = artist['genres']\n",
    "    popularity = artist['popularity']\n",
    "    print(\"Name:\", name)\n",
    "    print(\"Genres:\", genres)\n",
    "    print(\"Popularity:\", popularity)\n",
    "    print(\"Followers:\", followers)\n",
    "    print()"
   ]
  },
  {
   "cell_type": "markdown",
   "id": "bd568445",
   "metadata": {},
   "source": [
    "A function that gives back a color based on some numerical value given in input. It will be used to color nodes (artists) based on their popularity value and their number of followers"
   ]
  },
  {
   "cell_type": "code",
   "execution_count": null,
   "id": "232e9118",
   "metadata": {},
   "outputs": [],
   "source": [
    "def get_node_color(value):\n",
    "    normalized_value = value / 100.0\n",
    "    red = int((1 - normalized_value) * 255)\n",
    "    green = 0\n",
    "    blue = int(normalized_value * 255)\n",
    "    return f\"#{red:02x}{green:02x}{blue:02x}\" #Return the color in hexadecimal format"
   ]
  },
  {
   "cell_type": "markdown",
   "id": "e90ce976",
   "metadata": {},
   "source": [
    "In this section, the network is built. In order to get a better representation, *pyvis* library is used. \n",
    "I have decided to create a network where the nodes get a color and a size based on their popularity, which is a number between 0 and 100 attributed by Spotify's algorithm."
   ]
  },
  {
   "cell_type": "code",
   "execution_count": null,
   "id": "2cd04d0c",
   "metadata": {},
   "outputs": [],
   "source": [
    "data_file = input(\"Write the path of the data file: \") #The data files are given from keyboard\n",
    "popularity_file = input(\"Write the path of the popularity data file: \")\n",
    "\n",
    "with open(popularity_file, 'r', encoding = 'utf-8') as file:\n",
    "    data = file.readlines()\n",
    "\n",
    "with open(data_file, 'r', encoding = 'utf-8') as file:\n",
    "    data1 = file.readlines()\n",
    "    \n",
    "for line in data:\n",
    "    data = line.strip().split('?') #The data file used has the name of the artists and their popularity separated by a ?\n",
    "    artists1 = data[0]\n",
    "    popularity = float(data[1])\n",
    "    color = get_node_color(popularity)\n",
    "    net.add_node(artists1, size = popularity, color = color) #Add the artist as a node in the graph\n",
    "\n",
    "for line in data1:\n",
    "    data1 = line.strip().split('?') #The data file used has the name of the artists and their suggested artists separated by a ?\n",
    "    artists = data1[0]\n",
    "    suggested_artists = data1[1:]\n",
    "    for suggested_artist in suggested_artists:\n",
    "        net.add_edge(artists,suggested_artist) #Add an edge from the current artist to the suggested artist\n",
    "    else:\n",
    "        pass\n",
    "\n",
    "net.show(\"name_of_the_file.html\")\n",
    "\n",
    "#This last part can be used instead of the last line if this error code appears: \n",
    "#UnicodeEncodeError: 'charmap' codec can't encode character '' in position : character maps to <undefined> \n",
    "\n",
    "html = net.generate_html()\n",
    "with open(\"name_of_the_file.html\", mode = 'w', encoding = 'utf-8') as fp:\n",
    "        fp.write(html)\n",
    "display(HTML(html))"
   ]
  },
  {
   "cell_type": "markdown",
   "id": "cc5e4aaa",
   "metadata": {},
   "source": [
    "Before studying the network properties, it's interesting to plot the popularity of the artists versus the number of followers they have, to check if the value of popularity Spotify attributes to everyone of them is consistent with the number of people who follow the artists."
   ]
  },
  {
   "cell_type": "code",
   "execution_count": null,
   "id": "47bdd308",
   "metadata": {},
   "outputs": [],
   "source": [
    "file_path=input(\"Write the path of the popularity-vs-followers data file: \")\n",
    "with open(file_path, 'r', encoding='utf-8-sig') as file:\n",
    "    data = file.readlines()\n",
    "\n",
    "popularity=[]\n",
    "followers=[]\n",
    "\n",
    "for line in data:\n",
    "    data = line.strip().split('?')  # Split the line into artist and suggested artists\n",
    "    popularity.append(float(data[1]))\n",
    "    followers.append(float(data[2]))\n",
    "    \n",
    "plt.plot(popularity,followers, 'bo')\n",
    "plt.xlabel('Popularity')\n",
    "plt.ylabel('Number of followers')\n",
    "plt.xticks(np.arange(0,105,5)) #The range of the x-axis is extended to 105 to include graphically the node with popularity value 100"
   ]
  },
  {
   "cell_type": "markdown",
   "id": "92a9393f",
   "metadata": {},
   "source": [
    "To study the Spotify network, it is better to recreate it using *networkx* library as *pyvis* library doesn't have built-in functions to analyze a network but can just be used as a visualization tool.\n",
    "So I defined this function that generates a network starting from an input file and then the network is generated. "
   ]
  },
  {
   "cell_type": "code",
   "execution_count": null,
   "id": "91b63b21",
   "metadata": {},
   "outputs": [],
   "source": [
    "def create_graph_from_file(file_path):\n",
    "    graph = nx.DiGraph()  #Creates a directed graph object\n",
    "\n",
    "    with open(file_path, 'r', encoding = 'utf-8-sig') as file:\n",
    "        data = file.readlines()\n",
    "    \n",
    "    for line in data:\n",
    "        data = line.strip().split('?')  #Split the line into artist and suggested artists\n",
    "        artist = data[0]\n",
    "        suggested_artists = data[1:]\n",
    "        graph.add_node(artist)  #Add the artist as a node in the graph\n",
    "        for suggested_artist in suggested_artists:\n",
    "            graph.add_edge(artist, suggested_artist)  #Add an edge from the current artist to the suggested artist\n",
    "\n",
    "    return graph"
   ]
  },
  {
   "cell_type": "code",
   "execution_count": null,
   "id": "1e299d3d",
   "metadata": {},
   "outputs": [],
   "source": [
    "file_path = input(\"Write the path of the data file: \") #The data file is given from keyboard\n",
    "graph = create_graph_from_file(file_path)\n",
    "print(graph) #It gives back the number of nodes and edges of the network"
   ]
  },
  {
   "cell_type": "markdown",
   "id": "f124d984",
   "metadata": {},
   "source": [
    "The first things one can obtain out of the graph generated are the adjancency matrix and the incidence matrix."
   ]
  },
  {
   "cell_type": "code",
   "execution_count": null,
   "id": "0a665bdb",
   "metadata": {},
   "outputs": [],
   "source": [
    "adjacency_matrix = nx.adjacency_matrix(graph)\n",
    "adjacency_matrix = adjacency_matrix.toarray() #Convert the adjacency matrix to a NumPy array\n",
    "\n",
    "fig, ax = plt.subplots()\n",
    "\n",
    "im = ax.imshow(adjacency_matrix, cmap = 'binary') #Plot the adjacency matrix in black and white (binary attribute)\n",
    "cbar = ax.figure.colorbar(im, ax = ax) #A colorbar is added to the plot"
   ]
  },
  {
   "cell_type": "code",
   "execution_count": null,
   "id": "e630fd33",
   "metadata": {},
   "outputs": [],
   "source": [
    "incidence_matrix = nx.incidence_matrix(graph)\n",
    "incidence_matrix = incidence_matrix.toarray() #Convert the incidence matrix to a NumPy array\n",
    "\n",
    "fig, ax = plt.subplots()\n",
    "\n",
    "im = ax.imshow(incidence_matrix, cmap = 'binary') #Plot the incidence matrix in black and white (binary attribute)\n",
    "cbar = ax.figure.colorbar(im, ax = ax) #A colorbar is added to the plot"
   ]
  },
  {
   "cell_type": "markdown",
   "id": "2c11d6fc",
   "metadata": {},
   "source": [
    "Now, centrality measures are taken into account. I start from considering the degree centrality (or just degree) of the network. Since is directed, I consider also the indegree and the outdegree."
   ]
  },
  {
   "cell_type": "code",
   "execution_count": null,
   "id": "2271646a",
   "metadata": {},
   "outputs": [],
   "source": [
    "degree = graph.degree()\n",
    "in_degree = graph.in_degree()\n",
    "out_degree = graph.out_degree()\n",
    "\n",
    "print(degree)\n",
    "print(in_degree)\n",
    "print(out_degree)"
   ]
  },
  {
   "cell_type": "markdown",
   "id": "5d4a2b1f",
   "metadata": {},
   "source": [
    "Now I consider the degree cumulative distributions, plotting it in a log-log scale."
   ]
  },
  {
   "cell_type": "code",
   "execution_count": null,
   "id": "2adc2382",
   "metadata": {},
   "outputs": [],
   "source": [
    "degree = dict(degree) #Dictionary node:degree in order to access easily the parameters\n",
    "degree = sorted(list(degree.values())) #To isolate just the values from the names of the artists\n",
    "frequency = [degree.count(x) for x in degree]\n",
    "x = np.asarray(degree, dtype = float)\n",
    "y = np.asarray(frequency, dtype = float)\n",
    "y_normalized = y/graph.number_of_nodes() #The frequency is normalized in respect to the total number of nodes\n",
    "\n",
    "plt.figure(figsize = (7,6))\n",
    "plt.xlabel('Degree')\n",
    "plt.ylabel('Frequency')\n",
    "plt.xscale('log')\n",
    "plt.yscale('log')\n",
    "plt.plot(x, y_normalized, 'bo')"
   ]
  },
  {
   "cell_type": "markdown",
   "id": "821aa9e3",
   "metadata": {},
   "source": [
    "Using this following section of the code, it's possible to fit a power-law on the data obtained. In particular, this will be done just for the indegree."
   ]
  },
  {
   "cell_type": "code",
   "execution_count": null,
   "id": "a62c1bcf",
   "metadata": {},
   "outputs": [],
   "source": [
    "in_degree = dict(in_degree) #Dictionary node:in_degree in order to access easily the parameters\n",
    "\n",
    "#To isolate just the values from the names of the artists and only the positive ones otherwise the log() is not defined\n",
    "in_degree = sorted(list(in_degree_val for in_degree_val in in_degree.values() if in_degree_val>0)) \n",
    "\n",
    "frequency = [in_degree.count(x) for x in in_degree]\n",
    "x = np.asarray(in_degree, dtype = float)\n",
    "y = np.asarray(frequency, dtype = float)\n",
    "y_normalized = y/graph.number_of_nodes() #The frequency is normalized in respect to the total number of nodes\n",
    "\n",
    "plt.figure(figsize = (7,6))\n",
    "plt.xlabel('Indegree')\n",
    "plt.ylabel('Frequency')\n",
    "plt.xscale('log')\n",
    "plt.yscale('log')\n",
    "plt.plot(x, y_normalized, 'bo', label='Indegree points')\n",
    "\n",
    "slope, intercept, r_value = linregress(np.log(x), np.log(y_normalized)) #Perform a linear regression on the log-log plot\n",
    "fitted = np.exp(intercept) * x**slope #Power law assumption\n",
    "plt.plot(x, fitted, 'r', label=f'Fitted curve: y = {np.exp(intercept):.2f} * x^({slope:.2f})')\n",
    "plt.legend()\n",
    "\n",
    "print(f\"Linear Regression R-squared value: {r_value ** 2}\") #Quantifies how good or badly the curve fits the dataset"
   ]
  },
  {
   "cell_type": "markdown",
   "id": "530b5047",
   "metadata": {},
   "source": [
    "To characterise the network, the average degree and the average clustering coefficient are computed."
   ]
  },
  {
   "cell_type": "code",
   "execution_count": null,
   "id": "30086773",
   "metadata": {},
   "outputs": [],
   "source": [
    "average_degree = sum(degree)/len(degree)\n",
    "\n",
    "clustering_coefficient = nx.clustering(graph)\n",
    "average_clustering_coefficient = sum(clustering_coefficient.values())/len(clustering_coefficient)\n",
    "\n",
    "print(\"Average Degree:\", average_degree)\n",
    "print(\"Average Clustering Coefficient:\", average_clustering_coefficient)"
   ]
  },
  {
   "cell_type": "markdown",
   "id": "1fd80c68",
   "metadata": {},
   "source": [
    "Now other centrality measeures are taken into account: in particular, betweenness centrality, closeness centrality and eigenvector centrality."
   ]
  },
  {
   "cell_type": "code",
   "execution_count": null,
   "id": "52d4cff5",
   "metadata": {},
   "outputs": [],
   "source": [
    "betweenness_centrality = nx.betweenness_centrality(graph)\n",
    "closeness_centrality = nx.closeness_centrality(graph)\n",
    "eigenvector_centrality = nx.eigenvector_centrality(graph)\n",
    "pagerank = nx.pagerank(graph)"
   ]
  },
  {
   "cell_type": "markdown",
   "id": "abde959b",
   "metadata": {},
   "source": [
    "To visualize this data in decreasing order, to access the informations I was interested in, I used this code, where one can substitute one of the previous quantities in centrality.values() and centrality.keys(). So if for example you want to see the betweenness centrality results, you will have betweenness_centrality.values() and betweenness_centrality.keys()."
   ]
  },
  {
   "cell_type": "code",
   "execution_count": null,
   "id": "b9b3ed13",
   "metadata": {},
   "outputs": [],
   "source": [
    "centrality_data = list(zip(centrality.values(),centrality.keys()))\n",
    "sorted_values = sorted(centrality_data, key=lambda x: x[0], reverse=True)\n",
    "print(sorted_values)"
   ]
  },
  {
   "cell_type": "markdown",
   "id": "e26cfcf7",
   "metadata": {},
   "source": [
    "To create the smaller Spotify network and the AllMusic network, one can use the create_graph_from_file function and to visualzie it a combination of *networkx* and *pyvis* libraries, in the following way:"
   ]
  },
  {
   "cell_type": "code",
   "execution_count": null,
   "id": "4141929a",
   "metadata": {},
   "outputs": [],
   "source": [
    "file_path = input(\"Write the path of the data file: \") #The data file is given from keyboard\n",
    "graph = create_graph_from_file(file_path)\n",
    "print(graph) #It gives back the number of nodes and edges of the network\n",
    "net.from_nx(graph)\n",
    "net.show(\"name_of_file.html\")"
   ]
  },
  {
   "cell_type": "markdown",
   "id": "272e3de3",
   "metadata": {},
   "source": [
    "To analyze the two new networks, one can use the codes presented in the different sections of this code, adjusting them to the specific cases they are interested in."
   ]
  }
 ],
 "metadata": {
  "kernelspec": {
   "display_name": "Python 3 (ipykernel)",
   "language": "python",
   "name": "python3"
  },
  "language_info": {
   "codemirror_mode": {
    "name": "ipython",
    "version": 3
   },
   "file_extension": ".py",
   "mimetype": "text/x-python",
   "name": "python",
   "nbconvert_exporter": "python",
   "pygments_lexer": "ipython3",
   "version": "3.11.4"
  }
 },
 "nbformat": 4,
 "nbformat_minor": 5
}
